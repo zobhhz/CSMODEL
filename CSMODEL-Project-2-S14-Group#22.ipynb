{
  "nbformat": 4,
  "nbformat_minor": 0,
  "metadata": {
    "colab": {
      "name": "CSMODEL-Project-2-S14-Group#22.ipynb",
      "provenance": [],
      "authorship_tag": "ABX9TyPOMHJ7aOuyGAG98MgmNmo5",
      "include_colab_link": true
    },
    "kernelspec": {
      "name": "python3",
      "display_name": "Python 3"
    },
    "language_info": {
      "name": "python"
    }
  },
  "cells": [
    {
      "cell_type": "markdown",
      "metadata": {
        "id": "view-in-github",
        "colab_type": "text"
      },
      "source": [
        "<a href=\"https://colab.research.google.com/github/zobhhz/CSMODEL/blob/main/CSMODEL-Project-2-S14-Group%2322.ipynb\" target=\"_parent\"><img src=\"https://colab.research.google.com/assets/colab-badge.svg\" alt=\"Open In Colab\"/></a>"
      ]
    },
    {
      "cell_type": "markdown",
      "metadata": {
        "id": "wWXl5QVHdaoD"
      },
      "source": [
        "Will print hello wordl"
      ]
    },
    {
      "cell_type": "code",
      "metadata": {
        "id": "-lX-iOGmdV7G"
      },
      "source": [
        "print(\"Hello World!\")"
      ],
      "execution_count": null,
      "outputs": []
    }
  ]
}