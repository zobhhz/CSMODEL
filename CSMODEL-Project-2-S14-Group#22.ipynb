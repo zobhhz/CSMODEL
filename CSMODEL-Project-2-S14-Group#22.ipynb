{
  "nbformat": 4,
  "nbformat_minor": 2,
  "metadata": {
    "colab": {
      "name": "CSMODEL-Project-2-S14-Group#22.ipynb",
      "provenance": [],
      "authorship_tag": "ABX9TyPOMHJ7aOuyGAG98MgmNmo5",
      "include_colab_link": true
    },
    "kernelspec": {
      "name": "python3",
      "display_name": "Python 3.8.8 64-bit ('base': conda)"
    },
    "language_info": {
      "name": "python",
      "version": "3.8.8",
      "mimetype": "text/x-python",
      "codemirror_mode": {
        "name": "ipython",
        "version": 3
      },
      "pygments_lexer": "ipython3",
      "nbconvert_exporter": "python",
      "file_extension": ".py"
    },
    "interpreter": {
      "hash": "8fac594bfae6525c0c41b4041d2d72effa188cc8ead05f81b1fab2bb098927fb"
    }
  },
  "cells": [
    {
      "cell_type": "markdown",
      "source": [
        "# **CSMODEL -  Project 1**\r\n",
        "**Section:** ***S14*** <br>\r\n",
        "**Group Number:** ***6*** <br>\r\n",
        "**Contributors:** ***Gregorio, Manuel, Palmares***"
      ],
      "metadata": {
        "id": "wWXl5QVHdaoD"
      }
    },
    {
      "cell_type": "markdown",
      "source": [
        "\r\n",
        "---\r\n",
        "## **Introduction**"
      ],
      "metadata": {}
    },
    {
      "cell_type": "markdown",
      "source": [
        "\r\n",
        "---\r\n",
        "## **Import Libraries**"
      ],
      "metadata": {}
    },
    {
      "cell_type": "code",
      "execution_count": 1,
      "source": [
        "# Importing libraries\r\n",
        "import numpy as np\r\n",
        "import pandas as pd"
      ],
      "outputs": [],
      "metadata": {}
    }
  ]
}