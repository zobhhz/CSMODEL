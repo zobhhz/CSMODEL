{
  "nbformat": 4,
  "nbformat_minor": 2,
  "metadata": {
    "colab": {
      "name": "CSMODEL-Project-2-S14-Group#22.ipynb",
      "provenance": [],
      "authorship_tag": "ABX9TyPOMHJ7aOuyGAG98MgmNmo5",
      "include_colab_link": true
    },
    "kernelspec": {
      "name": "python3",
      "display_name": "Python 3"
    },
    "language_info": {
      "name": "python"
    }
  },
  "cells": [
    {
      "cell_type": "markdown",
      "source": [
        "Will print hello world!"
      ],
      "metadata": {
        "id": "wWXl5QVHdaoD"
      }
    },
    {
      "cell_type": "code",
      "execution_count": null,
      "source": [
        "print(\"Hello World!\")"
      ],
      "outputs": [],
      "metadata": {
        "id": "-lX-iOGmdV7G"
      }
    }
  ]
}